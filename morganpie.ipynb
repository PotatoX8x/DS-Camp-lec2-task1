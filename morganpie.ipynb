{
 "cells": [
  {
   "cell_type": "code",
   "execution_count": 46,
   "id": "643d21eb",
   "metadata": {},
   "outputs": [
    {
     "name": "stdout",
     "output_type": "stream",
     "text": [
      "Number of dots inside of a circle: 785 | Pi = 3.14\n"
     ]
    }
   ],
   "source": [
    "import numpy as np\n",
    "\n",
    "k = 1000\n",
    "a = np.random.default_rng().uniform(-1.0, 1.0, (k, 2))\n",
    "n = 0\n",
    "for x, y in a:\n",
    "    if (x * x + y * y <= 1):\n",
    "        n += 1\n",
    "print(f'Number of dots inside of a circle: {n} | Pi = {n/k*4}')"
   ]
  }
 ],
 "metadata": {
  "kernelspec": {
   "display_name": "Python 3 (ipykernel)",
   "language": "python",
   "name": "python3"
  },
  "language_info": {
   "codemirror_mode": {
    "name": "ipython",
    "version": 3
   },
   "file_extension": ".py",
   "mimetype": "text/x-python",
   "name": "python",
   "nbconvert_exporter": "python",
   "pygments_lexer": "ipython3",
   "version": "3.9.13"
  }
 },
 "nbformat": 4,
 "nbformat_minor": 5
}
